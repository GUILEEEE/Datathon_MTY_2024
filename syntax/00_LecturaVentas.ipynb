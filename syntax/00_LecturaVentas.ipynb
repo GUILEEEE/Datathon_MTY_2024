{
 "cells": [
  {
   "cell_type": "code",
   "execution_count": 1,
   "id": "49e204d4",
   "metadata": {},
   "outputs": [],
   "source": [
    "# Paquetería\n",
    "# Herramientas matemáticas\n",
    "import numpy as# Lectura de vuelos np\n",
    "\n",
    "# Lectura de .csv a Dataframes\n",
    "import pandas as pd\n",
    "\n",
    "# Herramienta para hacer copias de Dataframes sin conflictos\n",
    "import copy"
   ]
  },
  {
   "cell_type": "markdown",
   "id": "0cca1b37",
   "metadata": {},
   "source": [
    "# Lectura de vuelos"
   ]
  },
  {
   "cell_type": "code",
   "execution_count": 2,
   "id": "a89f0f88",
   "metadata": {},
   "outputs": [],
   "source": [
    "Ventas_DF = pd.read_csv('../data/Sales TEC_Valid.csv')"
   ]
  },
  {
   "cell_type": "code",
   "execution_count": 6,
   "id": "8fc1977f",
   "metadata": {},
   "outputs": [
    {
     "data": {
      "text/html": [
       "<div>\n",
       "<style scoped>\n",
       "    .dataframe tbody tr th:only-of-type {\n",
       "        vertical-align: middle;\n",
       "    }\n",
       "\n",
       "    .dataframe tbody tr th {\n",
       "        vertical-align: top;\n",
       "    }\n",
       "\n",
       "    .dataframe thead th {\n",
       "        text-align: right;\n",
       "    }\n",
       "</style>\n",
       "<table border=\"1\" class=\"dataframe\">\n",
       "  <thead>\n",
       "    <tr style=\"text-align: right;\">\n",
       "      <th></th>\n",
       "      <th>Flight_ID</th>\n",
       "      <th>ProductType</th>\n",
       "      <th>ProductName</th>\n",
       "      <th>Quantity</th>\n",
       "      <th>TotalSales</th>\n",
       "    </tr>\n",
       "  </thead>\n",
       "  <tbody>\n",
       "    <tr>\n",
       "      <th>0</th>\n",
       "      <td>a05290288259526edd3601160b10e1de</td>\n",
       "      <td>Botanas</td>\n",
       "      <td>Carne Seca Habanero</td>\n",
       "      <td>1</td>\n",
       "      <td>55.0</td>\n",
       "    </tr>\n",
       "    <tr>\n",
       "      <th>1</th>\n",
       "      <td>08f6f97437df8db101b050f1110be656</td>\n",
       "      <td>Licores</td>\n",
       "      <td>Jw Red Label</td>\n",
       "      <td>2</td>\n",
       "      <td>240.0</td>\n",
       "    </tr>\n",
       "    <tr>\n",
       "      <th>2</th>\n",
       "      <td>4e09c949826a77207868412baeff6d30</td>\n",
       "      <td>Licores</td>\n",
       "      <td>Jack And Coke</td>\n",
       "      <td>8</td>\n",
       "      <td>576.0</td>\n",
       "    </tr>\n",
       "    <tr>\n",
       "      <th>3</th>\n",
       "      <td>c3e1568fe46c68d3174681d322d412b3</td>\n",
       "      <td>Licores</td>\n",
       "      <td>Jw Red Label</td>\n",
       "      <td>2</td>\n",
       "      <td>240.0</td>\n",
       "    </tr>\n",
       "    <tr>\n",
       "      <th>4</th>\n",
       "      <td>7396e43fb94caca87add7bb1f1611e7e</td>\n",
       "      <td>Vivabus</td>\n",
       "      <td>Vivabus_Gdl.-Nvo. C. Camionera</td>\n",
       "      <td>4</td>\n",
       "      <td>320.0</td>\n",
       "    </tr>\n",
       "  </tbody>\n",
       "</table>\n",
       "</div>"
      ],
      "text/plain": [
       "                          Flight_ID ProductType  \\\n",
       "0  a05290288259526edd3601160b10e1de     Botanas   \n",
       "1  08f6f97437df8db101b050f1110be656     Licores   \n",
       "2  4e09c949826a77207868412baeff6d30     Licores   \n",
       "3  c3e1568fe46c68d3174681d322d412b3     Licores   \n",
       "4  7396e43fb94caca87add7bb1f1611e7e     Vivabus   \n",
       "\n",
       "                      ProductName  Quantity  TotalSales  \n",
       "0             Carne Seca Habanero         1        55.0  \n",
       "1                   Jw Red Label          2       240.0  \n",
       "2                   Jack And Coke         8       576.0  \n",
       "3                    Jw Red Label         2       240.0  \n",
       "4  Vivabus_Gdl.-Nvo. C. Camionera         4       320.0  "
      ]
     },
     "execution_count": 6,
     "metadata": {},
     "output_type": "execute_result"
    }
   ],
   "source": [
    "# Vista inicial de los datos de Vuelos\n",
    "Ventas_DF.head()"
   ]
  },
  {
   "cell_type": "code",
   "execution_count": 8,
   "id": "f5830776",
   "metadata": {},
   "outputs": [
    {
     "data": {
      "text/plain": [
       "Index(['Flight_ID', 'ProductType', 'ProductName', 'Quantity', 'TotalSales'], dtype='object')"
      ]
     },
     "execution_count": 8,
     "metadata": {},
     "output_type": "execute_result"
    }
   ],
   "source": [
    "# Nombres de las columnas ¿Con qué datos contamos?\n",
    "Ventas_DF.columns"
   ]
  },
  {
   "cell_type": "code",
   "execution_count": 9,
   "id": "bceca404",
   "metadata": {},
   "outputs": [
    {
     "name": "stdout",
     "output_type": "stream",
     "text": [
      "<class 'pandas.core.frame.DataFrame'>\n",
      "RangeIndex: 2564361 entries, 0 to 2564360\n",
      "Data columns (total 5 columns):\n",
      " #   Column       Dtype  \n",
      "---  ------       -----  \n",
      " 0   Flight_ID    object \n",
      " 1   ProductType  object \n",
      " 2   ProductName  object \n",
      " 3   Quantity     int64  \n",
      " 4   TotalSales   float64\n",
      "dtypes: float64(1), int64(1), object(3)\n",
      "memory usage: 97.8+ MB\n"
     ]
    }
   ],
   "source": [
    "# ¿La base de datos está completa?\n",
    "Ventas_DF.info()"
   ]
  },
  {
   "cell_type": "code",
   "execution_count": 12,
   "id": "64267ca6",
   "metadata": {},
   "outputs": [
    {
     "data": {
      "text/html": [
       "<div>\n",
       "<style scoped>\n",
       "    .dataframe tbody tr th:only-of-type {\n",
       "        vertical-align: middle;\n",
       "    }\n",
       "\n",
       "    .dataframe tbody tr th {\n",
       "        vertical-align: top;\n",
       "    }\n",
       "\n",
       "    .dataframe thead th {\n",
       "        text-align: right;\n",
       "    }\n",
       "</style>\n",
       "<table border=\"1\" class=\"dataframe\">\n",
       "  <thead>\n",
       "    <tr style=\"text-align: right;\">\n",
       "      <th></th>\n",
       "      <th>Quantity</th>\n",
       "      <th>TotalSales</th>\n",
       "    </tr>\n",
       "  </thead>\n",
       "  <tbody>\n",
       "    <tr>\n",
       "      <th>count</th>\n",
       "      <td>2.564361e+06</td>\n",
       "      <td>2.564361e+06</td>\n",
       "    </tr>\n",
       "    <tr>\n",
       "      <th>mean</th>\n",
       "      <td>2.519319e+00</td>\n",
       "      <td>1.110370e+02</td>\n",
       "    </tr>\n",
       "    <tr>\n",
       "      <th>std</th>\n",
       "      <td>2.829032e+00</td>\n",
       "      <td>1.736604e+02</td>\n",
       "    </tr>\n",
       "    <tr>\n",
       "      <th>min</th>\n",
       "      <td>1.000000e+00</td>\n",
       "      <td>-3.234000e+03</td>\n",
       "    </tr>\n",
       "    <tr>\n",
       "      <th>25%</th>\n",
       "      <td>1.000000e+00</td>\n",
       "      <td>4.500000e+01</td>\n",
       "    </tr>\n",
       "    <tr>\n",
       "      <th>50%</th>\n",
       "      <td>2.000000e+00</td>\n",
       "      <td>8.000000e+01</td>\n",
       "    </tr>\n",
       "    <tr>\n",
       "      <th>75%</th>\n",
       "      <td>3.000000e+00</td>\n",
       "      <td>1.440000e+02</td>\n",
       "    </tr>\n",
       "    <tr>\n",
       "      <th>max</th>\n",
       "      <td>8.500000e+01</td>\n",
       "      <td>1.290000e+04</td>\n",
       "    </tr>\n",
       "  </tbody>\n",
       "</table>\n",
       "</div>"
      ],
      "text/plain": [
       "           Quantity    TotalSales\n",
       "count  2.564361e+06  2.564361e+06\n",
       "mean   2.519319e+00  1.110370e+02\n",
       "std    2.829032e+00  1.736604e+02\n",
       "min    1.000000e+00 -3.234000e+03\n",
       "25%    1.000000e+00  4.500000e+01\n",
       "50%    2.000000e+00  8.000000e+01\n",
       "75%    3.000000e+00  1.440000e+02\n",
       "max    8.500000e+01  1.290000e+04"
      ]
     },
     "execution_count": 12,
     "metadata": {},
     "output_type": "execute_result"
    }
   ],
   "source": [
    "Ventas_DF.describe()"
   ]
  }
 ],
 "metadata": {
  "kernelspec": {
   "display_name": "Python 3 (ipykernel)",
   "language": "python",
   "name": "python3"
  },
  "language_info": {
   "codemirror_mode": {
    "name": "ipython",
    "version": 3
   },
   "file_extension": ".py",
   "mimetype": "text/x-python",
   "name": "python",
   "nbconvert_exporter": "python",
   "pygments_lexer": "ipython3",
   "version": "3.11.4"
  }
 },
 "nbformat": 4,
 "nbformat_minor": 5
}
