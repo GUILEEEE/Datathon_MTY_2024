{
 "cells": [
  {
   "cell_type": "code",
   "execution_count": 1,
   "metadata": {},
   "outputs": [],
   "source": [
    "import pandas as pd\n",
    "dot ='.'\n",
    "output_path = dot+'./output/'"
   ]
  },
  {
   "cell_type": "code",
   "execution_count": 2,
   "metadata": {},
   "outputs": [],
   "source": [
    "enero = pd.read_csv(output_path+'enero_2024.csv')"
   ]
  },
  {
   "cell_type": "code",
   "execution_count": 4,
   "metadata": {},
   "outputs": [],
   "source": [
    "# Pruebas preliminares\n",
    "test = ['4d95c80c854b637e6fdf951e85f1a05b','2385ceefd5123f0cdf95994f9978d216','35b62c4a09ba0a69e0c9b9a006d83f18',\n",
    "        'c073f59d3bea0a295cc8e466265c28c1','b5b6665fdc1048a63fd7e2f224a51b6c']"
   ]
  },
  {
   "cell_type": "markdown",
   "metadata": {},
   "source": [
    "# Con los códigos de TEST\n",
    "Calculamos los pasajeros para el ID-Flight"
   ]
  },
  {
   "cell_type": "code",
   "execution_count": 10,
   "metadata": {},
   "outputs": [
    {
     "name": "stdout",
     "output_type": "stream",
     "text": [
      "Abordaje en cada vuelo:\n",
      "\n",
      "Flight-ID:  4d95c80c854b637e6fdf951e85f1a05b  \t Abordaje: [213.5]\n",
      "Flight-ID:  2385ceefd5123f0cdf95994f9978d216  \t Abordaje: [219.]\n",
      "Flight-ID:  35b62c4a09ba0a69e0c9b9a006d83f18  \t Abordaje: [195.]\n",
      "Flight-ID:  c073f59d3bea0a295cc8e466265c28c1  \t Abordaje: [213.5]\n",
      "Flight-ID:  b5b6665fdc1048a63fd7e2f224a51b6c  \t Abordaje: [224.]\n"
     ]
    }
   ],
   "source": [
    "\n",
    "print('Abordaje en cada vuelo:\\n')\n",
    "for i in range(5):\n",
    "    print('Flight-ID: ', test[i],' \\t Abordaje:',enero[enero['Flight_ID']==test[i]]['abordaje_predicho'].values)"
   ]
  }
 ],
 "metadata": {
  "kernelspec": {
   "display_name": "base",
   "language": "python",
   "name": "python3"
  },
  "language_info": {
   "codemirror_mode": {
    "name": "ipython",
    "version": 3
   },
   "file_extension": ".py",
   "mimetype": "text/x-python",
   "name": "python",
   "nbconvert_exporter": "python",
   "pygments_lexer": "ipython3",
   "version": "3.11.5"
  }
 },
 "nbformat": 4,
 "nbformat_minor": 2
}
