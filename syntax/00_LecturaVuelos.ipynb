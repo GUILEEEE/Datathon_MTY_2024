{
 "cells": [
  {
   "cell_type": "code",
   "execution_count": 2,
   "metadata": {},
   "outputs": [],
   "source": [
    "# Paquetería\n",
    "# Herramientas matemáticas\n",
    "import numpy as np\n",
    "\n",
    "# Lectura de .csv a Dataframes\n",
    "import pandas as pd\n",
    "\n",
    "# Herramienta para hacer copias de Dataframes sin conflictos\n",
    "import copy"
   ]
  },
  {
   "cell_type": "markdown",
   "metadata": {},
   "source": [
    "# Lectura de vuelos"
   ]
  },
  {
   "cell_type": "code",
   "execution_count": 3,
   "metadata": {},
   "outputs": [],
   "source": [
    "Vuelos_DF = pd.read_csv('../data/Filghts TEC_Valid.csv')"
   ]
  },
  {
   "cell_type": "code",
   "execution_count": 4,
   "metadata": {},
   "outputs": [
    {
     "data": {
      "text/html": [
       "<div>\n",
       "<style scoped>\n",
       "    .dataframe tbody tr th:only-of-type {\n",
       "        vertical-align: middle;\n",
       "    }\n",
       "\n",
       "    .dataframe tbody tr th {\n",
       "        vertical-align: top;\n",
       "    }\n",
       "\n",
       "    .dataframe thead th {\n",
       "        text-align: right;\n",
       "    }\n",
       "</style>\n",
       "<table border=\"1\" class=\"dataframe\">\n",
       "  <thead>\n",
       "    <tr style=\"text-align: right;\">\n",
       "      <th></th>\n",
       "      <th>Flight_ID</th>\n",
       "      <th>Aeronave</th>\n",
       "      <th>DepartureStation</th>\n",
       "      <th>ArrivalStation</th>\n",
       "      <th>Destination_Type</th>\n",
       "      <th>Origin_Type</th>\n",
       "      <th>STD</th>\n",
       "      <th>STA</th>\n",
       "      <th>Capacity</th>\n",
       "      <th>Passengers</th>\n",
       "      <th>Bookings</th>\n",
       "    </tr>\n",
       "  </thead>\n",
       "  <tbody>\n",
       "    <tr>\n",
       "      <th>0</th>\n",
       "      <td>ab954014077430bd842cfa305a55c0f8</td>\n",
       "      <td>XA-VBY</td>\n",
       "      <td>AT</td>\n",
       "      <td>AZ</td>\n",
       "      <td>Ciudad Fronteriza</td>\n",
       "      <td>Ciudad Principal</td>\n",
       "      <td>2023-10-19 11:40:00</td>\n",
       "      <td>2023-10-19 14:25:00</td>\n",
       "      <td>240</td>\n",
       "      <td>229.0</td>\n",
       "      <td>157.0</td>\n",
       "    </tr>\n",
       "    <tr>\n",
       "      <th>1</th>\n",
       "      <td>efd86c996035dacdca7a0ccb2560dda1</td>\n",
       "      <td>XA-VIX</td>\n",
       "      <td>BM</td>\n",
       "      <td>AV</td>\n",
       "      <td>MX Amigos y Familia</td>\n",
       "      <td>Ciudad Fronteriza</td>\n",
       "      <td>2023-07-03 00:55:00</td>\n",
       "      <td>2023-07-03 04:55:00</td>\n",
       "      <td>186</td>\n",
       "      <td>197.0</td>\n",
       "      <td>109.0</td>\n",
       "    </tr>\n",
       "    <tr>\n",
       "      <th>2</th>\n",
       "      <td>6cfa1bbaa44f08fc7d3061f034a6a5ce</td>\n",
       "      <td>XA-VBV</td>\n",
       "      <td>AW</td>\n",
       "      <td>AS</td>\n",
       "      <td>MX Amigos y Familia</td>\n",
       "      <td>Ciudad Principal</td>\n",
       "      <td>2024-02-16 17:10:00</td>\n",
       "      <td>2024-02-16 17:55:00</td>\n",
       "      <td>220</td>\n",
       "      <td>NaN</td>\n",
       "      <td>NaN</td>\n",
       "    </tr>\n",
       "    <tr>\n",
       "      <th>3</th>\n",
       "      <td>dd0fad3248951d2f71d63e6279aeaa4b</td>\n",
       "      <td>XA-VBW</td>\n",
       "      <td>AW</td>\n",
       "      <td>AS</td>\n",
       "      <td>MX Amigos y Familia</td>\n",
       "      <td>Ciudad Principal</td>\n",
       "      <td>2023-06-26 15:15:00</td>\n",
       "      <td>2023-06-26 15:55:00</td>\n",
       "      <td>220</td>\n",
       "      <td>200.0</td>\n",
       "      <td>142.0</td>\n",
       "    </tr>\n",
       "    <tr>\n",
       "      <th>4</th>\n",
       "      <td>d0987ee648eea254063bfe2b39571b67</td>\n",
       "      <td>XA-VAP</td>\n",
       "      <td>BA</td>\n",
       "      <td>AB</td>\n",
       "      <td>Playa</td>\n",
       "      <td>Ciudad Principal</td>\n",
       "      <td>2023-02-10 08:40:00</td>\n",
       "      <td>2023-02-10 09:50:00</td>\n",
       "      <td>186</td>\n",
       "      <td>162.0</td>\n",
       "      <td>90.0</td>\n",
       "    </tr>\n",
       "  </tbody>\n",
       "</table>\n",
       "</div>"
      ],
      "text/plain": [
       "                          Flight_ID Aeronave DepartureStation ArrivalStation  \\\n",
       "0  ab954014077430bd842cfa305a55c0f8   XA-VBY               AT             AZ   \n",
       "1  efd86c996035dacdca7a0ccb2560dda1   XA-VIX               BM             AV   \n",
       "2  6cfa1bbaa44f08fc7d3061f034a6a5ce   XA-VBV               AW             AS   \n",
       "3  dd0fad3248951d2f71d63e6279aeaa4b   XA-VBW               AW             AS   \n",
       "4  d0987ee648eea254063bfe2b39571b67   XA-VAP               BA             AB   \n",
       "\n",
       "      Destination_Type        Origin_Type                  STD  \\\n",
       "0    Ciudad Fronteriza   Ciudad Principal  2023-10-19 11:40:00   \n",
       "1  MX Amigos y Familia  Ciudad Fronteriza  2023-07-03 00:55:00   \n",
       "2  MX Amigos y Familia   Ciudad Principal  2024-02-16 17:10:00   \n",
       "3  MX Amigos y Familia   Ciudad Principal  2023-06-26 15:15:00   \n",
       "4                Playa   Ciudad Principal  2023-02-10 08:40:00   \n",
       "\n",
       "                   STA  Capacity  Passengers  Bookings  \n",
       "0  2023-10-19 14:25:00       240       229.0     157.0  \n",
       "1  2023-07-03 04:55:00       186       197.0     109.0  \n",
       "2  2024-02-16 17:55:00       220         NaN       NaN  \n",
       "3  2023-06-26 15:55:00       220       200.0     142.0  \n",
       "4  2023-02-10 09:50:00       186       162.0      90.0  "
      ]
     },
     "execution_count": 4,
     "metadata": {},
     "output_type": "execute_result"
    }
   ],
   "source": [
    "# Vista inicial de los datos de Vuelos\n",
    "Vuelos_DF.head()"
   ]
  },
  {
   "cell_type": "code",
   "execution_count": 5,
   "metadata": {},
   "outputs": [
    {
     "data": {
      "text/plain": [
       "Index(['Flight_ID', 'Aeronave', 'DepartureStation', 'ArrivalStation',\n",
       "       'Destination_Type', 'Origin_Type', 'STD', 'STA', 'Capacity',\n",
       "       'Passengers', 'Bookings'],\n",
       "      dtype='object')"
      ]
     },
     "execution_count": 5,
     "metadata": {},
     "output_type": "execute_result"
    }
   ],
   "source": [
    "# Nombres de las columnas ¿Con qué datos contamos?\n",
    "Vuelos_DF.columns"
   ]
  },
  {
   "cell_type": "code",
   "execution_count": 6,
   "metadata": {},
   "outputs": [
    {
     "name": "stdout",
     "output_type": "stream",
     "text": [
      "<class 'pandas.core.frame.DataFrame'>\n",
      "RangeIndex: 245753 entries, 0 to 245752\n",
      "Data columns (total 11 columns):\n",
      " #   Column            Non-Null Count   Dtype  \n",
      "---  ------            --------------   -----  \n",
      " 0   Flight_ID         245753 non-null  object \n",
      " 1   Aeronave          165363 non-null  object \n",
      " 2   DepartureStation  245752 non-null  object \n",
      " 3   ArrivalStation    245752 non-null  object \n",
      " 4   Destination_Type  245752 non-null  object \n",
      " 5   Origin_Type       245752 non-null  object \n",
      " 6   STD               245753 non-null  object \n",
      " 7   STA               245753 non-null  object \n",
      " 8   Capacity          245753 non-null  int64  \n",
      " 9   Passengers        122228 non-null  float64\n",
      " 10  Bookings          122228 non-null  float64\n",
      "dtypes: float64(2), int64(1), object(8)\n",
      "memory usage: 20.6+ MB\n"
     ]
    }
   ],
   "source": [
    "# ¿La base de datos está completa?\n",
    "Vuelos_DF.info()"
   ]
  },
  {
   "cell_type": "markdown",
   "metadata": {},
   "source": [
    "# Exportamos los datos 2023-2025"
   ]
  },
  {
   "cell_type": "code",
   "execution_count": 16,
   "metadata": {},
   "outputs": [
    {
     "name": "stdout",
     "output_type": "stream",
     "text": [
      "La fecha Departure del primer vuelo en 2023:  2023-01-02 00:20:00\n",
      "La fecha Arrival del ultimo vuelo en 2025:  2025-02-28 07:35:00\n"
     ]
    }
   ],
   "source": [
    "print('La fecha Departure del primer vuelo en 2023: ',Vuelos_DF['STD'].min())\n",
    "print('La fecha Arrival del ultimo vuelo en 2025: ',Vuelos_DF['STA'].max())"
   ]
  },
  {
   "cell_type": "code",
   "execution_count": 17,
   "metadata": {},
   "outputs": [],
   "source": [
    "# Creamos una copia en Vuelos_v1.csv del dataset original\n",
    "Vuelos_DF.to_csv('../output/Vuelos_v1.csv',index=False)"
   ]
  },
  {
   "cell_type": "markdown",
   "metadata": {},
   "source": [
    "# Datos 2023"
   ]
  },
  {
   "cell_type": "code",
   "execution_count": 7,
   "metadata": {},
   "outputs": [
    {
     "name": "stdout",
     "output_type": "stream",
     "text": [
      "<class 'pandas.core.frame.DataFrame'>\n",
      "Index: 122228 entries, 0 to 245750\n",
      "Data columns (total 11 columns):\n",
      " #   Column            Non-Null Count   Dtype  \n",
      "---  ------            --------------   -----  \n",
      " 0   Flight_ID         122228 non-null  object \n",
      " 1   Aeronave          121726 non-null  object \n",
      " 2   DepartureStation  122227 non-null  object \n",
      " 3   ArrivalStation    122227 non-null  object \n",
      " 4   Destination_Type  122227 non-null  object \n",
      " 5   Origin_Type       122227 non-null  object \n",
      " 6   STD               122228 non-null  object \n",
      " 7   STA               122228 non-null  object \n",
      " 8   Capacity          122228 non-null  int64  \n",
      " 9   Passengers        122228 non-null  float64\n",
      " 10  Bookings          122228 non-null  float64\n",
      "dtypes: float64(2), int64(1), object(8)\n",
      "memory usage: 11.2+ MB\n"
     ]
    }
   ],
   "source": [
    "# Separamos los vuelos en 2023\n",
    "Vuelos_2023 = Vuelos_DF[(Vuelos_DF['Passengers'].notnull()) | (Vuelos_DF['Bookings'].notnull())]\n",
    "Vuelos_2023.info()"
   ]
  },
  {
   "cell_type": "code",
   "execution_count": 8,
   "metadata": {},
   "outputs": [
    {
     "name": "stdout",
     "output_type": "stream",
     "text": [
      "La fecha Departure del primer vuelo en 2023:  2023-01-02 00:20:00\n",
      "La fecha Departure del último vuelo en 2023:  2023-12-31 23:50:00\n",
      "La fecha Arrival del primer vuelo en 2023:  2023-01-02 02:45:00\n",
      "La fecha Arrival del último vuelo en 2023:  2024-01-01 05:15:00\n"
     ]
    }
   ],
   "source": [
    "print('La fecha Departure del primer vuelo en 2023: ',Vuelos_2023['STD'].min())\n",
    "print('La fecha Departure del último vuelo en 2023: ',Vuelos_2023['STD'].max())\n",
    "print('La fecha Arrival del primer vuelo en 2023: ',Vuelos_2023['STA'].min())\n",
    "print('La fecha Arrival del último vuelo en 2023: ',Vuelos_2023['STA'].max())"
   ]
  },
  {
   "cell_type": "code",
   "execution_count": 13,
   "metadata": {},
   "outputs": [
    {
     "data": {
      "text/plain": [
       "30583"
      ]
     },
     "execution_count": 13,
     "metadata": {},
     "output_type": "execute_result"
    }
   ],
   "source": [
    "# ¿Hay sobreventa de vuelos?\n",
    "# Exploramos cuántos de los datos tienen más pasajeros que capacidad\n",
    "len(Vuelos_2023[Vuelos_2023['Passengers'] > Vuelos_2023['Capacity'] ])"
   ]
  },
  {
   "cell_type": "markdown",
   "metadata": {},
   "source": [
    "Ya que sí hay sobreventa hay que transformar esta columna de datos"
   ]
  },
  {
   "cell_type": "markdown",
   "metadata": {},
   "source": [
    "# Datos 2024-2025"
   ]
  },
  {
   "cell_type": "code",
   "execution_count": 9,
   "metadata": {},
   "outputs": [
    {
     "data": {
      "text/html": [
       "<div>\n",
       "<style scoped>\n",
       "    .dataframe tbody tr th:only-of-type {\n",
       "        vertical-align: middle;\n",
       "    }\n",
       "\n",
       "    .dataframe tbody tr th {\n",
       "        vertical-align: top;\n",
       "    }\n",
       "\n",
       "    .dataframe thead th {\n",
       "        text-align: right;\n",
       "    }\n",
       "</style>\n",
       "<table border=\"1\" class=\"dataframe\">\n",
       "  <thead>\n",
       "    <tr style=\"text-align: right;\">\n",
       "      <th></th>\n",
       "      <th>Flight_ID</th>\n",
       "      <th>Aeronave</th>\n",
       "      <th>DepartureStation</th>\n",
       "      <th>ArrivalStation</th>\n",
       "      <th>Destination_Type</th>\n",
       "      <th>Origin_Type</th>\n",
       "      <th>STD</th>\n",
       "      <th>STA</th>\n",
       "      <th>Capacity</th>\n",
       "      <th>Passengers</th>\n",
       "      <th>Bookings</th>\n",
       "    </tr>\n",
       "  </thead>\n",
       "  <tbody>\n",
       "    <tr>\n",
       "      <th>2</th>\n",
       "      <td>6cfa1bbaa44f08fc7d3061f034a6a5ce</td>\n",
       "      <td>XA-VBV</td>\n",
       "      <td>AW</td>\n",
       "      <td>AS</td>\n",
       "      <td>MX Amigos y Familia</td>\n",
       "      <td>Ciudad Principal</td>\n",
       "      <td>2024-02-16 17:10:00</td>\n",
       "      <td>2024-02-16 17:55:00</td>\n",
       "      <td>220</td>\n",
       "      <td>NaN</td>\n",
       "      <td>NaN</td>\n",
       "    </tr>\n",
       "    <tr>\n",
       "      <th>19</th>\n",
       "      <td>bb319ee8f62b5ae38e6f6da4dbff03cb</td>\n",
       "      <td>XA-VAV</td>\n",
       "      <td>BA</td>\n",
       "      <td>AB</td>\n",
       "      <td>Playa</td>\n",
       "      <td>Ciudad Principal</td>\n",
       "      <td>2024-01-12 08:20:00</td>\n",
       "      <td>2024-01-12 09:20:00</td>\n",
       "      <td>186</td>\n",
       "      <td>NaN</td>\n",
       "      <td>NaN</td>\n",
       "    </tr>\n",
       "    <tr>\n",
       "      <th>22</th>\n",
       "      <td>d77570d39116f81dbb619c5225dd0572</td>\n",
       "      <td>NaN</td>\n",
       "      <td>AK</td>\n",
       "      <td>BO</td>\n",
       "      <td>MX Amigos y Familia</td>\n",
       "      <td>Playa</td>\n",
       "      <td>2024-05-18 14:10:00</td>\n",
       "      <td>2024-05-18 16:15:00</td>\n",
       "      <td>180</td>\n",
       "      <td>NaN</td>\n",
       "      <td>NaN</td>\n",
       "    </tr>\n",
       "    <tr>\n",
       "      <th>25</th>\n",
       "      <td>85d3b182431d323b856e50e249689981</td>\n",
       "      <td>XA-VIY</td>\n",
       "      <td>AT</td>\n",
       "      <td>AI</td>\n",
       "      <td>Playa</td>\n",
       "      <td>Ciudad Principal</td>\n",
       "      <td>2024-03-18 10:30:00</td>\n",
       "      <td>2024-03-18 13:25:00</td>\n",
       "      <td>186</td>\n",
       "      <td>NaN</td>\n",
       "      <td>NaN</td>\n",
       "    </tr>\n",
       "    <tr>\n",
       "      <th>26</th>\n",
       "      <td>04e83b220f5513bd6cc636784dcddec6</td>\n",
       "      <td>XA-VXC</td>\n",
       "      <td>BM</td>\n",
       "      <td>AV</td>\n",
       "      <td>MX Amigos y Familia</td>\n",
       "      <td>Ciudad Fronteriza</td>\n",
       "      <td>2024-04-05 00:50:00</td>\n",
       "      <td>2024-04-05 04:45:00</td>\n",
       "      <td>240</td>\n",
       "      <td>NaN</td>\n",
       "      <td>NaN</td>\n",
       "    </tr>\n",
       "  </tbody>\n",
       "</table>\n",
       "</div>"
      ],
      "text/plain": [
       "                           Flight_ID Aeronave DepartureStation ArrivalStation  \\\n",
       "2   6cfa1bbaa44f08fc7d3061f034a6a5ce   XA-VBV               AW             AS   \n",
       "19  bb319ee8f62b5ae38e6f6da4dbff03cb   XA-VAV               BA             AB   \n",
       "22  d77570d39116f81dbb619c5225dd0572      NaN               AK             BO   \n",
       "25  85d3b182431d323b856e50e249689981   XA-VIY               AT             AI   \n",
       "26  04e83b220f5513bd6cc636784dcddec6   XA-VXC               BM             AV   \n",
       "\n",
       "       Destination_Type        Origin_Type                  STD  \\\n",
       "2   MX Amigos y Familia   Ciudad Principal  2024-02-16 17:10:00   \n",
       "19                Playa   Ciudad Principal  2024-01-12 08:20:00   \n",
       "22  MX Amigos y Familia              Playa  2024-05-18 14:10:00   \n",
       "25                Playa   Ciudad Principal  2024-03-18 10:30:00   \n",
       "26  MX Amigos y Familia  Ciudad Fronteriza  2024-04-05 00:50:00   \n",
       "\n",
       "                    STA  Capacity  Passengers  Bookings  \n",
       "2   2024-02-16 17:55:00       220         NaN       NaN  \n",
       "19  2024-01-12 09:20:00       186         NaN       NaN  \n",
       "22  2024-05-18 16:15:00       180         NaN       NaN  \n",
       "25  2024-03-18 13:25:00       186         NaN       NaN  \n",
       "26  2024-04-05 04:45:00       240         NaN       NaN  "
      ]
     },
     "execution_count": 9,
     "metadata": {},
     "output_type": "execute_result"
    }
   ],
   "source": [
    "# Vuelos en 2024 y 2024 no tienen pasajeros ni reservas\n",
    "Vuelos_2425 = Vuelos_DF[(Vuelos_DF['Passengers'].isnull()) | (Vuelos_DF['Bookings'].isnull())]\n",
    "Vuelos_2425.head()"
   ]
  },
  {
   "cell_type": "code",
   "execution_count": 10,
   "metadata": {},
   "outputs": [
    {
     "name": "stdout",
     "output_type": "stream",
     "text": [
      "La fecha Departure del primer vuelo en 2023:  2024-01-01 00:05:00\n",
      "La fecha Departure del último vuelo en 2023:  2025-02-28 06:05:00\n",
      "La fecha Arrival del primer vuelo en 2023:  2024-01-01 05:05:00\n",
      "La fecha Arrival del último vuelo en 2023:  2025-02-28 07:35:00\n"
     ]
    }
   ],
   "source": [
    "print('La fecha Departure del primer vuelo en 2023: ',Vuelos_2425['STD'].min())\n",
    "print('La fecha Departure del último vuelo en 2023: ',Vuelos_2425['STD'].max())\n",
    "print('La fecha Arrival del primer vuelo en 2023: ',Vuelos_2425['STA'].min())\n",
    "print('La fecha Arrival del último vuelo en 2023: ',Vuelos_2425['STA'].max())"
   ]
  },
  {
   "cell_type": "code",
   "execution_count": 11,
   "metadata": {},
   "outputs": [
    {
     "name": "stdout",
     "output_type": "stream",
     "text": [
      "<class 'pandas.core.frame.DataFrame'>\n",
      "Index: 123525 entries, 2 to 245752\n",
      "Data columns (total 11 columns):\n",
      " #   Column            Non-Null Count   Dtype  \n",
      "---  ------            --------------   -----  \n",
      " 0   Flight_ID         123525 non-null  object \n",
      " 1   Aeronave          43637 non-null   object \n",
      " 2   DepartureStation  123525 non-null  object \n",
      " 3   ArrivalStation    123525 non-null  object \n",
      " 4   Destination_Type  123525 non-null  object \n",
      " 5   Origin_Type       123525 non-null  object \n",
      " 6   STD               123525 non-null  object \n",
      " 7   STA               123525 non-null  object \n",
      " 8   Capacity          123525 non-null  int64  \n",
      " 9   Passengers        0 non-null       float64\n",
      " 10  Bookings          0 non-null       float64\n",
      "dtypes: float64(2), int64(1), object(8)\n",
      "memory usage: 11.3+ MB\n"
     ]
    }
   ],
   "source": [
    "Vuelos_2425.info()"
   ]
  }
 ],
 "metadata": {
  "kernelspec": {
   "display_name": "Python 3 (ipykernel)",
   "language": "python",
   "name": "python3"
  },
  "language_info": {
   "codemirror_mode": {
    "name": "ipython",
    "version": 3
   },
   "file_extension": ".py",
   "mimetype": "text/x-python",
   "name": "python",
   "nbconvert_exporter": "python",
   "pygments_lexer": "ipython3",
   "version": "3.11.4"
  }
 },
 "nbformat": 4,
 "nbformat_minor": 2
}
